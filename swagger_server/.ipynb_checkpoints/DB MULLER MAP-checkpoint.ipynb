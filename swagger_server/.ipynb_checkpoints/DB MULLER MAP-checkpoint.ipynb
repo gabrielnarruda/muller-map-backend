{
 "cells": [
  {
   "cell_type": "code",
   "execution_count": 18,
   "metadata": {},
   "outputs": [],
   "source": [
    "import sqlite3\n",
    "\n",
    "def create_tb_usuario():\n",
    "    try:\n",
    "        sqliteConnection = sqlite3.connect('db_muller_map.db')\n",
    "        cursor = sqliteConnection.cursor()\n",
    "        cursor.execute(\"\"\"CREATE TABLE tb_usuario (id INTEGER NOT NULL PRIMARY KEY AUTOINCREMENT,\n",
    "                        usuario TEXT NOT NULL UNIQUE,\n",
    "                        senha TEXT NOT NULL,\n",
    "                        nome TEXT NOT NULL, \n",
    "                        instituicao TEXT NOT NULL, \n",
    "                        email TEXT NOT NULL UNIQUE,\n",
    "                        created_at DATE NOT NULL)\"\"\")\n",
    "    except sqlite3.Error as error:\n",
    "        print(\"Error while executing sqlite script\", error)\n",
    "    finally:\n",
    "        if (sqliteConnection):\n",
    "            sqliteConnection.close()\n",
    "            print(\"sqlite connection is closed\")\n",
    "            \n",
    "            "
   ]
  },
  {
   "cell_type": "code",
   "execution_count": 19,
   "metadata": {},
   "outputs": [
    {
     "name": "stdout",
     "output_type": "stream",
     "text": [
      "sqlite connection is closed\n"
     ]
    }
   ],
   "source": [
    "create_tb_usuario()"
   ]
  },
  {
   "cell_type": "code",
   "execution_count": 20,
   "metadata": {},
   "outputs": [],
   "source": [
    "\n",
    "def create_tb_coordenadas():\n",
    "    try:\n",
    "        sqliteConnection = sqlite3.connect('db_muller_map.db')\n",
    "        cursor = sqliteConnection.cursor()\n",
    "        cursor.execute(\"\"\"CREATE TABLE tb_coordenadas (id INTEGER NOT NULL PRIMARY KEY AUTOINCREMENT,\n",
    "                        nm_local TEXT NOT NULL,\n",
    "                        lat NUMERIC NOT NULL,\n",
    "                        lon NUMERIC NOT NULL, \n",
    "                        indice_radiacao numeric NOT NULL, \n",
    "                        id_usuario INTEGER NOT NULL,\n",
    "                        created_at DATE NOT NULL,\n",
    "                        FOREIGN KEY(id_usuario) REFERENCES tb_usuario(id))\"\"\")\n",
    "    except sqlite3.Error as error:\n",
    "        print(\"Error while executing sqlite script\", error)\n",
    "    finally:\n",
    "        if (sqliteConnection):\n",
    "            sqliteConnection.close()\n",
    "            print(\"sqlite connection is closed\")\n",
    "            \n",
    "            "
   ]
  },
  {
   "cell_type": "code",
   "execution_count": 27,
   "metadata": {},
   "outputs": [],
   "source": [
    "sqliteConnection.close()"
   ]
  },
  {
   "cell_type": "code",
   "execution_count": 22,
   "metadata": {},
   "outputs": [
    {
     "name": "stdout",
     "output_type": "stream",
     "text": [
      "sqlite connection is closed\n"
     ]
    }
   ],
   "source": [
    "create_tb_coordenadas()"
   ]
  },
  {
   "cell_type": "code",
   "execution_count": 23,
   "metadata": {},
   "outputs": [],
   "source": [
    "def create_tb_caracteristicas():\n",
    "    try:\n",
    "        sqliteConnection = sqlite3.connect('db_muller_map.db')\n",
    "        cursor = sqliteConnection.cursor()\n",
    "        cursor.execute(\"\"\"CREATE TABLE tb_caracteristicas (id INTEGER NOT NULL PRIMARY KEY AUTOINCREMENT,\n",
    "                        nm_caracteristica TEXT NOT NULL UNIQUE,\n",
    "                        desc_caracteristica TEXT NOT NULL,\n",
    "                        created_at DATE NOT NULL)\"\"\")\n",
    "    except sqlite3.Error as error:\n",
    "        print(\"Error while executing sqlite script\", error)\n",
    "    finally:\n",
    "        if (sqliteConnection):\n",
    "            sqliteConnection.close()\n",
    "            print(\"sqlite connection is closed\")"
   ]
  },
  {
   "cell_type": "code",
   "execution_count": 24,
   "metadata": {},
   "outputs": [
    {
     "name": "stdout",
     "output_type": "stream",
     "text": [
      "sqlite connection is closed\n"
     ]
    }
   ],
   "source": [
    "create_tb_caracteristicas()"
   ]
  },
  {
   "cell_type": "code",
   "execution_count": 25,
   "metadata": {},
   "outputs": [],
   "source": [
    "def create_tb_caracteristicas_coordenadas():\n",
    "    try:\n",
    "        sqliteConnection = sqlite3.connect('db_muller_map.db')\n",
    "        cursor = sqliteConnection.cursor()\n",
    "        cursor.execute(\"\"\"CREATE TABLE tb_caracteristicas_coordenadas (id INTEGER NOT NULL PRIMARY KEY AUTOINCREMENT,\n",
    "                        id_coordenada INTEGER NOT NULL,\n",
    "                        id_caracteristica INTEGER NOT NULL,\n",
    "                        created_at DATE NOT NULL,\n",
    "                        FOREIGN KEY(id_coordenada) REFERENCES tb_coordenadas(id),\n",
    "                        FOREIGN KEY(id_caracteristica) REFERENCES tb_caracteristicas(id))\"\"\")\n",
    "    except sqlite3.Error as error:\n",
    "        print(\"Error while executing sqlite script\", error)\n",
    "    finally:\n",
    "        if (sqliteConnection):\n",
    "            sqliteConnection.close()\n",
    "            print(\"sqlite connection is closed\")"
   ]
  },
  {
   "cell_type": "code",
   "execution_count": 26,
   "metadata": {},
   "outputs": [
    {
     "name": "stdout",
     "output_type": "stream",
     "text": [
      "sqlite connection is closed\n"
     ]
    }
   ],
   "source": [
    "create_tb_caracteristicas_coordenadas()"
   ]
  },
  {
   "cell_type": "code",
   "execution_count": null,
   "metadata": {},
   "outputs": [],
   "source": []
  }
 ],
 "metadata": {
  "kernelspec": {
   "display_name": "Python 3",
   "language": "python",
   "name": "python3"
  },
  "language_info": {
   "codemirror_mode": {
    "name": "ipython",
    "version": 3
   },
   "file_extension": ".py",
   "mimetype": "text/x-python",
   "name": "python",
   "nbconvert_exporter": "python",
   "pygments_lexer": "ipython3",
   "version": "3.7.4"
  }
 },
 "nbformat": 4,
 "nbformat_minor": 2
}
